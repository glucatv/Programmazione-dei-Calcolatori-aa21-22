{
 "cells": [
  {
   "cell_type": "markdown",
   "id": "4b2aa030",
   "metadata": {},
   "source": [
    "## Funzioni `ord` e `chr`"
   ]
  },
  {
   "cell_type": "code",
   "execution_count": 1,
   "id": "2faa0c85",
   "metadata": {},
   "outputs": [
    {
     "data": {
      "text/plain": [
       "97"
      ]
     },
     "execution_count": 1,
     "metadata": {},
     "output_type": "execute_result"
    }
   ],
   "source": [
    "ord('a')"
   ]
  },
  {
   "cell_type": "code",
   "execution_count": 2,
   "id": "0dc97955",
   "metadata": {},
   "outputs": [
    {
     "data": {
      "text/plain": [
       "'a'"
      ]
     },
     "execution_count": 2,
     "metadata": {},
     "output_type": "execute_result"
    }
   ],
   "source": [
    "chr(97)"
   ]
  },
  {
   "cell_type": "markdown",
   "id": "f880adca",
   "metadata": {},
   "source": [
    "# Funzione `zip`"
   ]
  },
  {
   "cell_type": "code",
   "execution_count": 3,
   "id": "d0b24245",
   "metadata": {},
   "outputs": [
    {
     "name": "stdout",
     "output_type": "stream",
     "text": [
      "('Roma', 32)\n",
      "('Milano', 34)\n",
      "('Napoli', 20)\n",
      "('Venezia', 30)\n"
     ]
    }
   ],
   "source": [
    "a = ['Roma', 'Milano', 'Napoli', 'Venezia']\n",
    "t = [32, 34, 20, 30]\n",
    "\n",
    "for x in zip(a, t):\n",
    "    print(x)"
   ]
  },
  {
   "cell_type": "code",
   "execution_count": 4,
   "id": "ef54c6c2",
   "metadata": {},
   "outputs": [
    {
     "name": "stdout",
     "output_type": "stream",
     "text": [
      "Roma 32\n",
      "Milano 34\n",
      "Napoli 20\n",
      "Venezia 30\n"
     ]
    }
   ],
   "source": [
    "for cit, temp in zip(a, t):\n",
    "    print(cit, temp)"
   ]
  },
  {
   "cell_type": "markdown",
   "id": "2f9aabae",
   "metadata": {},
   "source": [
    "# Metodo `get`"
   ]
  },
  {
   "cell_type": "code",
   "execution_count": 5,
   "id": "d086859a",
   "metadata": {},
   "outputs": [],
   "source": [
    "d = {'Roma': 32, 'Milano':34, 'Napoli':29, 'Venezia':30}"
   ]
  },
  {
   "cell_type": "code",
   "execution_count": 6,
   "id": "3c2f2c09",
   "metadata": {},
   "outputs": [
    {
     "data": {
      "text/plain": [
       "34"
      ]
     },
     "execution_count": 6,
     "metadata": {},
     "output_type": "execute_result"
    }
   ],
   "source": [
    "d['Milano']"
   ]
  },
  {
   "cell_type": "code",
   "execution_count": 7,
   "id": "b580ad5c",
   "metadata": {},
   "outputs": [
    {
     "ename": "KeyError",
     "evalue": "'Firenze'",
     "output_type": "error",
     "traceback": [
      "\u001b[0;31m---------------------------------------------------------------------------\u001b[0m",
      "\u001b[0;31mKeyError\u001b[0m                                  Traceback (most recent call last)",
      "\u001b[0;32m/tmp/ipykernel_18005/1407715949.py\u001b[0m in \u001b[0;36m<module>\u001b[0;34m\u001b[0m\n\u001b[0;32m----> 1\u001b[0;31m \u001b[0md\u001b[0m\u001b[0;34m[\u001b[0m\u001b[0;34m'Firenze'\u001b[0m\u001b[0;34m]\u001b[0m\u001b[0;34m\u001b[0m\u001b[0;34m\u001b[0m\u001b[0m\n\u001b[0m",
      "\u001b[0;31mKeyError\u001b[0m: 'Firenze'"
     ]
    }
   ],
   "source": [
    "d['Firenze']"
   ]
  },
  {
   "cell_type": "code",
   "execution_count": 8,
   "id": "f04d93f0",
   "metadata": {},
   "outputs": [
    {
     "data": {
      "text/plain": [
       "34"
      ]
     },
     "execution_count": 8,
     "metadata": {},
     "output_type": "execute_result"
    }
   ],
   "source": [
    "d.get('Milano')"
   ]
  },
  {
   "cell_type": "markdown",
   "id": "95d760b7",
   "metadata": {},
   "source": [
    "niente errore ma `None` se la chiave non è presente"
   ]
  },
  {
   "cell_type": "code",
   "execution_count": 13,
   "id": "32ff5f17",
   "metadata": {},
   "outputs": [
    {
     "data": {
      "text/plain": [
       "30"
      ]
     },
     "execution_count": 13,
     "metadata": {},
     "output_type": "execute_result"
    }
   ],
   "source": [
    "d.get('Firenze')"
   ]
  },
  {
   "cell_type": "code",
   "execution_count": 14,
   "id": "0c8cf4e5",
   "metadata": {},
   "outputs": [
    {
     "data": {
      "text/plain": [
       "False"
      ]
     },
     "execution_count": 14,
     "metadata": {},
     "output_type": "execute_result"
    }
   ],
   "source": [
    "d.get('Firenze') == None"
   ]
  },
  {
   "cell_type": "markdown",
   "id": "49039b06",
   "metadata": {},
   "source": [
    "Si può indicare un valore di default in caso di chiave non presente"
   ]
  },
  {
   "cell_type": "code",
   "execution_count": 11,
   "id": "d59c50f5",
   "metadata": {},
   "outputs": [
    {
     "data": {
      "text/plain": [
       "-1"
      ]
     },
     "execution_count": 11,
     "metadata": {},
     "output_type": "execute_result"
    }
   ],
   "source": [
    "d.get('Firenze', -1)"
   ]
  },
  {
   "cell_type": "markdown",
   "id": "6774c0df",
   "metadata": {},
   "source": [
    "Esempio di utilizzo"
   ]
  },
  {
   "cell_type": "code",
   "execution_count": 12,
   "id": "813251cc",
   "metadata": {},
   "outputs": [
    {
     "name": "stdout",
     "output_type": "stream",
     "text": [
      "{'Roma': 32, 'Milano': 35, 'Napoli': 29, 'Venezia': 30, 'Firenze': 30}\n"
     ]
    }
   ],
   "source": [
    "b = ['Milano', 'Firenze']\n",
    "\n",
    "for k in b:\n",
    "    d[k] = d.get(k, 29) + 1\n",
    "    \n",
    "print(d)"
   ]
  },
  {
   "cell_type": "code",
   "execution_count": null,
   "id": "8b68aded",
   "metadata": {},
   "outputs": [],
   "source": []
  }
 ],
 "metadata": {
  "kernelspec": {
   "display_name": "Python 3 (ipykernel)",
   "language": "python",
   "name": "python3"
  },
  "language_info": {
   "codemirror_mode": {
    "name": "ipython",
    "version": 3
   },
   "file_extension": ".py",
   "mimetype": "text/x-python",
   "name": "python",
   "nbconvert_exporter": "python",
   "pygments_lexer": "ipython3",
   "version": "3.9.5"
  }
 },
 "nbformat": 4,
 "nbformat_minor": 5
}
