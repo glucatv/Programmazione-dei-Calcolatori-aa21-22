{
 "cells": [
  {
   "cell_type": "code",
   "execution_count": 9,
   "id": "ffa1fe06",
   "metadata": {},
   "outputs": [
    {
     "data": {
      "text/plain": [
       "[-9, 1, 2, 3, 8, 10]"
      ]
     },
     "execution_count": 9,
     "metadata": {},
     "output_type": "execute_result"
    }
   ],
   "source": [
    "a = [3, 1, 8, 2, 10, -9]\n",
    "sorted(a)"
   ]
  },
  {
   "cell_type": "code",
   "execution_count": 11,
   "id": "895da9e2",
   "metadata": {},
   "outputs": [
    {
     "data": {
      "text/plain": [
       "['prima', 'quarta', 'seconda', 'terza']"
      ]
     },
     "execution_count": 11,
     "metadata": {},
     "output_type": "execute_result"
    }
   ],
   "source": [
    "sorted(['prima', 'seconda', 'terza', 'quarta'])"
   ]
  },
  {
   "cell_type": "code",
   "execution_count": 12,
   "id": "92f7676d",
   "metadata": {},
   "outputs": [
    {
     "data": {
      "text/plain": [
       "['prima', 'terza', 'quarta', 'seconda']"
      ]
     },
     "execution_count": 12,
     "metadata": {},
     "output_type": "execute_result"
    }
   ],
   "source": [
    "sorted(['prima', 'seconda', 'terza', 'quarta'], key=len)"
   ]
  },
  {
   "cell_type": "code",
   "execution_count": 13,
   "id": "bb605bdd",
   "metadata": {},
   "outputs": [
    {
     "data": {
      "text/plain": [
       "['seconda', 'quarta', 'prima', 'terza']"
      ]
     },
     "execution_count": 13,
     "metadata": {},
     "output_type": "execute_result"
    }
   ],
   "source": [
    "sorted(['prima', 'seconda', 'terza', 'quarta'], key=len, reverse=True)"
   ]
  },
  {
   "cell_type": "code",
   "execution_count": 14,
   "id": "f286d8a8",
   "metadata": {},
   "outputs": [
    {
     "data": {
      "text/plain": [
       "['seconda', 'quarta', 'prima', 'terza']"
      ]
     },
     "execution_count": 14,
     "metadata": {},
     "output_type": "execute_result"
    }
   ],
   "source": [
    "sorted( ('prima', 'seconda', 'terza', 'quarta'), key=len, reverse=True)"
   ]
  },
  {
   "cell_type": "code",
   "execution_count": 15,
   "id": "0445fcc0",
   "metadata": {},
   "outputs": [
    {
     "data": {
      "text/plain": [
       "[' ', 'a', 'a', 'g', 'i', 'n', 'n', 'r', 's', 't', 'u']"
      ]
     },
     "execution_count": 15,
     "metadata": {},
     "output_type": "execute_result"
    }
   ],
   "source": [
    "sorted('una stringa')"
   ]
  },
  {
   "cell_type": "code",
   "execution_count": 17,
   "id": "9628992d",
   "metadata": {},
   "outputs": [
    {
     "name": "stdout",
     "output_type": "stream",
     "text": [
      "512518178816\n",
      "512518180352\n",
      "['prima', 'quarta', 'seconda', 'terza']\n"
     ]
    }
   ],
   "source": [
    "a = ['prima', 'seconda', 'terza', 'quarta']\n",
    "print(id(a))\n",
    "a = sorted(a)\n",
    "print(id(a))\n",
    "print(a)"
   ]
  },
  {
   "cell_type": "code",
   "execution_count": 18,
   "id": "19dbfac6",
   "metadata": {},
   "outputs": [
    {
     "name": "stdout",
     "output_type": "stream",
     "text": [
      "512518172736\n",
      "512518172736\n",
      "['prima', 'quarta', 'seconda', 'terza']\n"
     ]
    }
   ],
   "source": [
    "a = ['prima', 'seconda', 'terza', 'quarta']\n",
    "print(id(a))\n",
    "a.sort()\n",
    "print(id(a))\n",
    "print(a)"
   ]
  },
  {
   "cell_type": "code",
   "execution_count": 19,
   "id": "019fa84a",
   "metadata": {},
   "outputs": [],
   "source": [
    "a.sort(key=len)"
   ]
  },
  {
   "cell_type": "code",
   "execution_count": 20,
   "id": "0e9f4d62",
   "metadata": {},
   "outputs": [
    {
     "name": "stdout",
     "output_type": "stream",
     "text": [
      "['prima', 'terza', 'quarta', 'seconda']\n"
     ]
    }
   ],
   "source": [
    "print(a)"
   ]
  },
  {
   "cell_type": "code",
   "execution_count": 21,
   "id": "5b8f95c5",
   "metadata": {},
   "outputs": [
    {
     "data": {
      "text/plain": [
       "'terza'"
      ]
     },
     "execution_count": 21,
     "metadata": {},
     "output_type": "execute_result"
    }
   ],
   "source": [
    "max(a)"
   ]
  },
  {
   "cell_type": "code",
   "execution_count": 22,
   "id": "521b4ab7",
   "metadata": {},
   "outputs": [
    {
     "data": {
      "text/plain": [
       "'seconda'"
      ]
     },
     "execution_count": 22,
     "metadata": {},
     "output_type": "execute_result"
    }
   ],
   "source": [
    "max(a, key=len)"
   ]
  },
  {
   "cell_type": "code",
   "execution_count": 23,
   "id": "904777d4",
   "metadata": {},
   "outputs": [
    {
     "data": {
      "text/plain": [
       "'prima'"
      ]
     },
     "execution_count": 23,
     "metadata": {},
     "output_type": "execute_result"
    }
   ],
   "source": [
    "min(a, key=len)"
   ]
  },
  {
   "cell_type": "code",
   "execution_count": 31,
   "id": "dbbd8721",
   "metadata": {},
   "outputs": [
    {
     "name": "stdout",
     "output_type": "stream",
     "text": [
      "digita un intero: fewfefw\n",
      "sto usando il valore di default\n",
      "digita un intero: ddqre31ee\n",
      "Riprova\n",
      "digita un intero: adasda\n",
      "Riprova\n",
      "digita un intero: 123\n",
      "0.0\n"
     ]
    }
   ],
   "source": [
    "try:\n",
    "    x = int(input('digita un intero: '))\n",
    "except ValueError:\n",
    "    print('sto usando il valore di default')\n",
    "    x = 0\n",
    "\n",
    "ciclo = True\n",
    "while ciclo:\n",
    "    try:\n",
    "        y = int(input('digita un intero: '))\n",
    "        ciclo = False\n",
    "    except ValueError:\n",
    "        print('Riprova')\n",
    "        \n",
    "try:\n",
    "    print(x/y)\n",
    "except ZeroDivisionError:\n",
    "    print('Non posso dividere per 0')"
   ]
  },
  {
   "cell_type": "code",
   "execution_count": null,
   "id": "8ee1184f",
   "metadata": {},
   "outputs": [],
   "source": []
  }
 ],
 "metadata": {
  "kernelspec": {
   "display_name": "Python 3",
   "language": "python",
   "name": "python3"
  },
  "language_info": {
   "codemirror_mode": {
    "name": "ipython",
    "version": 3
   },
   "file_extension": ".py",
   "mimetype": "text/x-python",
   "name": "python",
   "nbconvert_exporter": "python",
   "pygments_lexer": "ipython3",
   "version": "3.9.2"
  }
 },
 "nbformat": 4,
 "nbformat_minor": 5
}
